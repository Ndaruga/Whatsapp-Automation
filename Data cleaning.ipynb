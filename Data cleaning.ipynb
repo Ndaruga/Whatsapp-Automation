{
 "cells": [
  {
   "cell_type": "code",
   "execution_count": 1,
   "id": "ec6eeb5b",
   "metadata": {},
   "outputs": [],
   "source": [
    "import pandas as pd\n",
    "import numpy as np\n",
    "import re"
   ]
  },
  {
   "cell_type": "code",
   "execution_count": 2,
   "id": "4182b0da",
   "metadata": {},
   "outputs": [
    {
     "data": {
      "text/html": [
       "<div>\n",
       "<style scoped>\n",
       "    .dataframe tbody tr th:only-of-type {\n",
       "        vertical-align: middle;\n",
       "    }\n",
       "\n",
       "    .dataframe tbody tr th {\n",
       "        vertical-align: top;\n",
       "    }\n",
       "\n",
       "    .dataframe thead th {\n",
       "        text-align: right;\n",
       "    }\n",
       "</style>\n",
       "<table border=\"1\" class=\"dataframe\">\n",
       "  <thead>\n",
       "    <tr style=\"text-align: right;\">\n",
       "      <th></th>\n",
       "      <th>index</th>\n",
       "      <th>0</th>\n",
       "      <th>1</th>\n",
       "      <th>2</th>\n",
       "      <th>3</th>\n",
       "      <th>4</th>\n",
       "      <th>5</th>\n",
       "      <th>6</th>\n",
       "      <th>7</th>\n",
       "      <th>8</th>\n",
       "      <th>...</th>\n",
       "      <th>48</th>\n",
       "      <th>49</th>\n",
       "      <th>50</th>\n",
       "      <th>51</th>\n",
       "      <th>52</th>\n",
       "      <th>53</th>\n",
       "      <th>54</th>\n",
       "      <th>55</th>\n",
       "      <th>56</th>\n",
       "      <th>57</th>\n",
       "    </tr>\n",
       "  </thead>\n",
       "  <tbody>\n",
       "    <tr>\n",
       "      <th>0</th>\n",
       "      <td>column</td>\n",
       "      <td>column</td>\n",
       "      <td>column</td>\n",
       "      <td>column</td>\n",
       "      <td>column</td>\n",
       "      <td>column</td>\n",
       "      <td>column</td>\n",
       "      <td>column</td>\n",
       "      <td>column</td>\n",
       "      <td>column</td>\n",
       "      <td>...</td>\n",
       "      <td>column</td>\n",
       "      <td>column</td>\n",
       "      <td>column</td>\n",
       "      <td>column</td>\n",
       "      <td>column</td>\n",
       "      <td>column</td>\n",
       "      <td>column</td>\n",
       "      <td>column</td>\n",
       "      <td>column</td>\n",
       "      <td>column</td>\n",
       "    </tr>\n",
       "    <tr>\n",
       "      <th>1</th>\n",
       "      <td>+1 (848) 242-6969</td>\n",
       "      <td>+1 (501) 417-3338</td>\n",
       "      <td>Edmond</td>\n",
       "      <td>Eustace</td>\n",
       "      <td>Eustace</td>\n",
       "      <td>Jeremiah</td>\n",
       "      <td>Shekar</td>\n",
       "      <td>Shekar</td>\n",
       "      <td>Liz</td>\n",
       "      <td>Shekar</td>\n",
       "      <td>...</td>\n",
       "      <td>+91 6281 770 074</td>\n",
       "      <td>Jere</td>\n",
       "      <td>+1 (321) 244-6870</td>\n",
       "      <td>Koushik</td>\n",
       "      <td>+234 701 015 6517</td>\n",
       "      <td>+1 (936) 280-5590</td>\n",
       "      <td>+1 (508) 452-9273</td>\n",
       "      <td>+1 (256) 649-9989</td>\n",
       "      <td>+234 701 015 6517</td>\n",
       "      <td>+1 (213) 577-0698</td>\n",
       "    </tr>\n",
       "    <tr>\n",
       "      <th>2</th>\n",
       "      <td>+233 20 387 7720</td>\n",
       "      <td>+212 663-640841</td>\n",
       "      <td>You</td>\n",
       "      <td>George</td>\n",
       "      <td>Jeremiah</td>\n",
       "      <td>Kevin</td>\n",
       "      <td>+1 (201) 232-6194</td>\n",
       "      <td>+1 (201) 204-6113</td>\n",
       "      <td>Shekar</td>\n",
       "      <td>+1 (201) 204-6113</td>\n",
       "      <td>...</td>\n",
       "      <td>+91 6302 210 169</td>\n",
       "      <td>Mutitu</td>\n",
       "      <td>+1 (331) 277-9701</td>\n",
       "      <td>+1 (213) 577-0698</td>\n",
       "      <td>+234 701 135 4547</td>\n",
       "      <td>+234 805 844 7630</td>\n",
       "      <td>+1 (612) 246-2617</td>\n",
       "      <td>+27 63 127 1087</td>\n",
       "      <td>+234 701 135 4547</td>\n",
       "      <td>+1 (325) 313-0374</td>\n",
       "    </tr>\n",
       "    <tr>\n",
       "      <th>3</th>\n",
       "      <td>+234 701 443 0719</td>\n",
       "      <td>+234 703 939 3199</td>\n",
       "      <td>Eustace</td>\n",
       "      <td>George</td>\n",
       "      <td>+1 (203) 953-8590</td>\n",
       "      <td>Liz</td>\n",
       "      <td>+1 (201) 238-8795</td>\n",
       "      <td>+1 (201) 297-1386</td>\n",
       "      <td>+1 (201) 232-6194</td>\n",
       "      <td>+1 (201) 238-8795</td>\n",
       "      <td>...</td>\n",
       "      <td>+91 70926 46781</td>\n",
       "      <td>+1 (216) 224-6294</td>\n",
       "      <td>+1 (415) 872-2041</td>\n",
       "      <td>+1 (214) 886-1117</td>\n",
       "      <td>+234 701 174 8413</td>\n",
       "      <td>+234 815 252 3145</td>\n",
       "      <td>+1 (716) 717-0243</td>\n",
       "      <td>+27 63 196 4127</td>\n",
       "      <td>+234 701 174 8413</td>\n",
       "      <td>+1 (508) 593-8151</td>\n",
       "    </tr>\n",
       "    <tr>\n",
       "      <th>4</th>\n",
       "      <td>+234 701 788 7699</td>\n",
       "      <td>+234 915 798 5963</td>\n",
       "      <td>Jayasree</td>\n",
       "      <td>George</td>\n",
       "      <td>+1 (226) 546-4832</td>\n",
       "      <td>Rushil</td>\n",
       "      <td>+1 (201) 560-3820</td>\n",
       "      <td>+1 (201) 423-3030</td>\n",
       "      <td>+1 (201) 238-8795</td>\n",
       "      <td>+1 (201) 423-3030</td>\n",
       "      <td>...</td>\n",
       "      <td>+91 70932 64337</td>\n",
       "      <td>+1 (219) 386-7007</td>\n",
       "      <td>+1 (469) 300-3061</td>\n",
       "      <td>+1 (224) 877-5566</td>\n",
       "      <td>+234 701 257 9411</td>\n",
       "      <td>+234 816 829 0262</td>\n",
       "      <td>+234 901 892 5336</td>\n",
       "      <td>+27 66 137 7656</td>\n",
       "      <td>+234 701 257 9411</td>\n",
       "      <td>+1 (541) 216-7463</td>\n",
       "    </tr>\n",
       "  </tbody>\n",
       "</table>\n",
       "<p>5 rows × 59 columns</p>\n",
       "</div>"
      ],
      "text/plain": [
       "                index                   0          1         2  \\\n",
       "0              column              column     column    column   \n",
       "1   +1 (848) 242-6969   +1 (501) 417-3338     Edmond   Eustace   \n",
       "2    +233 20 387 7720     +212 663-640841        You    George   \n",
       "3   +234 701 443 0719   +234 703 939 3199    Eustace    George   \n",
       "4   +234 701 788 7699   +234 915 798 5963   Jayasree    George   \n",
       "\n",
       "                    3          4                   5                   6  \\\n",
       "0              column     column              column              column   \n",
       "1             Eustace   Jeremiah              Shekar              Shekar   \n",
       "2            Jeremiah      Kevin   +1 (201) 232-6194   +1 (201) 204-6113   \n",
       "3   +1 (203) 953-8590        Liz   +1 (201) 238-8795   +1 (201) 297-1386   \n",
       "4   +1 (226) 546-4832     Rushil   +1 (201) 560-3820   +1 (201) 423-3030   \n",
       "\n",
       "                    7                   8  ...                 48  \\\n",
       "0              column              column  ...             column   \n",
       "1                 Liz              Shekar  ...   +91 6281 770 074   \n",
       "2              Shekar   +1 (201) 204-6113  ...   +91 6302 210 169   \n",
       "3   +1 (201) 232-6194   +1 (201) 238-8795  ...    +91 70926 46781   \n",
       "4   +1 (201) 238-8795   +1 (201) 423-3030  ...    +91 70932 64337   \n",
       "\n",
       "                   49                  50                  51  \\\n",
       "0              column              column              column   \n",
       "1                Jere   +1 (321) 244-6870             Koushik   \n",
       "2              Mutitu   +1 (331) 277-9701   +1 (213) 577-0698   \n",
       "3   +1 (216) 224-6294   +1 (415) 872-2041   +1 (214) 886-1117   \n",
       "4   +1 (219) 386-7007   +1 (469) 300-3061   +1 (224) 877-5566   \n",
       "\n",
       "                   52                  53                  54  \\\n",
       "0              column              column              column   \n",
       "1   +234 701 015 6517   +1 (936) 280-5590   +1 (508) 452-9273   \n",
       "2   +234 701 135 4547   +234 805 844 7630   +1 (612) 246-2617   \n",
       "3   +234 701 174 8413   +234 815 252 3145   +1 (716) 717-0243   \n",
       "4   +234 701 257 9411   +234 816 829 0262   +234 901 892 5336   \n",
       "\n",
       "                   55                  56                  57  \n",
       "0              column              column              column  \n",
       "1   +1 (256) 649-9989   +234 701 015 6517   +1 (213) 577-0698  \n",
       "2     +27 63 127 1087   +234 701 135 4547   +1 (325) 313-0374  \n",
       "3     +27 63 196 4127   +234 701 174 8413   +1 (508) 593-8151  \n",
       "4     +27 66 137 7656   +234 701 257 9411   +1 (541) 216-7463  \n",
       "\n",
       "[5 rows x 59 columns]"
      ]
     },
     "execution_count": 2,
     "metadata": {},
     "output_type": "execute_result"
    }
   ],
   "source": [
    "data = pd.read_excel(\"Book-Whatsapp.xlsx\")\n",
    "data=data.T.reset_index()\n",
    "data.head()"
   ]
  },
  {
   "cell_type": "code",
   "execution_count": 4,
   "id": "b2f2035c",
   "metadata": {},
   "outputs": [],
   "source": [
    "df=pd.Series(data.values.ravel(\"C\"))"
   ]
  },
  {
   "cell_type": "code",
   "execution_count": 5,
   "id": "2e8466fb",
   "metadata": {},
   "outputs": [
    {
     "data": {
      "text/plain": [
       "(69679,)"
      ]
     },
     "execution_count": 5,
     "metadata": {},
     "output_type": "execute_result"
    }
   ],
   "source": [
    "df.shape"
   ]
  },
  {
   "cell_type": "markdown",
   "id": "f06acff1",
   "metadata": {},
   "source": [
    "## Clean and transform the numbers"
   ]
  },
  {
   "cell_type": "code",
   "execution_count": 6,
   "id": "563b7e1e",
   "metadata": {},
   "outputs": [
    {
     "data": {
      "text/plain": [
       "(21702,)"
      ]
     },
     "execution_count": 6,
     "metadata": {},
     "output_type": "execute_result"
    }
   ],
   "source": [
    "# Remove null values\n",
    "df=df.dropna()\n",
    "df.shape"
   ]
  },
  {
   "cell_type": "code",
   "execution_count": 7,
   "id": "a10b6416",
   "metadata": {},
   "outputs": [],
   "source": [
    "data = []\n",
    "\n",
    "for i in pd.Series.iteritems(df):\n",
    "    i=str(i[1])\n",
    "    i=re.sub(' ','',i)\n",
    "    i=re.sub('[A-Za-z(-)-<>/]','',i)\n",
    "#     i=int(i)\n",
    "    if len(i) < 9:\n",
    "        pass\n",
    "    elif len(i) > 14:\n",
    "        i= i[0:13]\n",
    "    else:\n",
    "        data.append(i)"
   ]
  },
  {
   "cell_type": "code",
   "execution_count": 8,
   "id": "ec5f634f",
   "metadata": {},
   "outputs": [
    {
     "data": {
      "text/plain": [
       "20507"
      ]
     },
     "execution_count": 8,
     "metadata": {},
     "output_type": "execute_result"
    }
   ],
   "source": [
    "len(data)"
   ]
  },
  {
   "cell_type": "code",
   "execution_count": 9,
   "id": "0c7dd30b",
   "metadata": {},
   "outputs": [
    {
     "name": "stdout",
     "output_type": "stream",
     "text": [
      "19280\n"
     ]
    }
   ],
   "source": [
    "# Remove all kenyan Numbers\n",
    "\n",
    "pattern = re.compile(\"254[17]\")\n",
    "for i in data:\n",
    "    if pattern.fullmatch(i,1,5):\n",
    "        data.remove(i)\n",
    "    else:\n",
    "        pass\n",
    "    \n",
    "print(len(data))"
   ]
  },
  {
   "cell_type": "code",
   "execution_count": 10,
   "id": "e3224678",
   "metadata": {},
   "outputs": [],
   "source": [
    "Clients = []"
   ]
  },
  {
   "cell_type": "code",
   "execution_count": 12,
   "id": "8ed52a2a",
   "metadata": {},
   "outputs": [],
   "source": [
    "\n",
    "# Check numbers repeating more than 2 times add them to an array\n",
    "from collections import Counter\n",
    "from csv import writer\n",
    "\n",
    "counts = dict(Counter(data))\n",
    "for key, value in counts.items():\n",
    "    if value > 2:\n",
    "        with open('Numbers/Employers.csv', 'a') as f:\n",
    "            wt=writer(f)\n",
    "            wt.writerow(str(key))\n",
    "            f.close()\n",
    "    else:\n",
    "        Clients.append(key)"
   ]
  },
  {
   "cell_type": "code",
   "execution_count": 13,
   "id": "0c571743",
   "metadata": {},
   "outputs": [
    {
     "data": {
      "text/plain": [
       "2736"
      ]
     },
     "execution_count": 13,
     "metadata": {},
     "output_type": "execute_result"
    }
   ],
   "source": [
    "len(Clients)"
   ]
  },
  {
   "cell_type": "code",
   "execution_count": null,
   "id": "1a771f4b",
   "metadata": {},
   "outputs": [],
   "source": []
  }
 ],
 "metadata": {
  "kernelspec": {
   "display_name": "Python 3 (ipykernel)",
   "language": "python",
   "name": "python3"
  },
  "language_info": {
   "codemirror_mode": {
    "name": "ipython",
    "version": 3
   },
   "file_extension": ".py",
   "mimetype": "text/x-python",
   "name": "python",
   "nbconvert_exporter": "python",
   "pygments_lexer": "ipython3",
   "version": "3.9.13"
  }
 },
 "nbformat": 4,
 "nbformat_minor": 5
}
