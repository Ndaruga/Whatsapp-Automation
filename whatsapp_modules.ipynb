{
 "cells": [
  {
   "cell_type": "code",
   "execution_count": 1,
   "id": "53f5d329",
   "metadata": {},
   "outputs": [
    {
     "data": {
      "text/html": [
       "<div>\n",
       "<style scoped>\n",
       "    .dataframe tbody tr th:only-of-type {\n",
       "        vertical-align: middle;\n",
       "    }\n",
       "\n",
       "    .dataframe tbody tr th {\n",
       "        vertical-align: top;\n",
       "    }\n",
       "\n",
       "    .dataframe thead th {\n",
       "        text-align: right;\n",
       "    }\n",
       "</style>\n",
       "<table border=\"1\" class=\"dataframe\">\n",
       "  <thead>\n",
       "    <tr style=\"text-align: right;\">\n",
       "      <th></th>\n",
       "      <th>0</th>\n",
       "    </tr>\n",
       "  </thead>\n",
       "  <tbody>\n",
       "    <tr>\n",
       "      <th>0</th>\n",
       "      <td>16173096647</td>\n",
       "    </tr>\n",
       "    <tr>\n",
       "      <th>1</th>\n",
       "      <td>16173313794</td>\n",
       "    </tr>\n",
       "    <tr>\n",
       "      <th>2</th>\n",
       "      <td>16173315020</td>\n",
       "    </tr>\n",
       "    <tr>\n",
       "      <th>3</th>\n",
       "      <td>16174669138</td>\n",
       "    </tr>\n",
       "    <tr>\n",
       "      <th>4</th>\n",
       "      <td>16175139525</td>\n",
       "    </tr>\n",
       "  </tbody>\n",
       "</table>\n",
       "</div>"
      ],
      "text/plain": [
       "             0\n",
       "0  16173096647\n",
       "1  16173313794\n",
       "2  16173315020\n",
       "3  16174669138\n",
       "4  16175139525"
      ]
     },
     "execution_count": 1,
     "metadata": {},
     "output_type": "execute_result"
    }
   ],
   "source": [
    "import pandas as pd\n",
    "import re\n",
    "Clients=pd.read_csv('Numbers/Clients.csv')\n",
    "Clients.head()"
   ]
  },
  {
   "cell_type": "code",
   "execution_count": null,
   "id": "f066e457",
   "metadata": {},
   "outputs": [],
   "source": []
  },
  {
   "cell_type": "code",
   "execution_count": 2,
   "id": "083a8371",
   "metadata": {},
   "outputs": [
    {
     "data": {
      "text/plain": [
       "list"
      ]
     },
     "execution_count": 2,
     "metadata": {},
     "output_type": "execute_result"
    }
   ],
   "source": [
    "Clients=Clients.values.tolist()\n",
    "type(Clients)"
   ]
  },
  {
   "cell_type": "code",
   "execution_count": 3,
   "id": "1d1d5bdb",
   "metadata": {},
   "outputs": [],
   "source": [
    "client_No=[]\n",
    "for i in Clients:\n",
    "    string = re.sub('[\\W\\_]','',str(i))\n",
    "    no = '+'+str(string)\n",
    "    client_No.append(no)"
   ]
  },
  {
   "cell_type": "code",
   "execution_count": 4,
   "id": "f7460e82",
   "metadata": {},
   "outputs": [],
   "source": [
    "del Clients # Delete the dataframe to save memory"
   ]
  },
  {
   "cell_type": "code",
   "execution_count": null,
   "id": "4472ac8b",
   "metadata": {},
   "outputs": [],
   "source": [
    "import os\n",
    "import time\n",
    "import webbrowser as web\n",
    "from datetime import datetime\n",
    "from re import fullmatch\n",
    "from typing import List\n",
    "from urllib.parse import quote\n",
    "import paperclip\n",
    "import pyautogui as pg\n",
    "import pyperclip\n",
    "import keyboard\n",
    "from pywhatkit.core import core, exceptions, log\n",
    "\n",
    "pg.FAILSAFE = False\n",
    "\n",
    "core.check_connection()\n",
    "\n",
    "def open_web() -> bool:\n",
    "    \"\"\"Opens WhatsApp Web\"\"\"\n",
    "\n",
    "    try:\n",
    "        web.open(\"https://web.whatsapp.com\")\n",
    "    except web.Error:\n",
    "        return False\n",
    "    else:\n",
    "        return True\n"
   ]
  },
  {
   "cell_type": "code",
   "execution_count": null,
   "id": "7624e0ff",
   "metadata": {},
   "outputs": [],
   "source": [
    "def sendwhatmsg(\n",
    "        phone_no: str,\n",
    "        message: str,\n",
    "        time_hour: int,\n",
    "        time_min: int,\n",
    "        wait_time: int = 15,\n",
    "        tab_close: bool = True,\n",
    "        close_time: int = 8,\n",
    ") -> None:\n",
    "    \"\"\"Send a WhatsApp Message at a Certain Time\"\"\"\n",
    "    if not core.check_number(number=phone_no):\n",
    "        raise exceptions.CountryCodeException(\"Country Code Missing in Phone Number!\")\n",
    "\n",
    "    phone_no = phone_no.replace(\" \", \"\")\n",
    "    if not fullmatch(r'^\\+?[0-9]{2,4}\\s?[0-9]{9,15}', phone_no):\n",
    "        raise exceptions.InvalidPhoneNumber(\"Invalid Phone Number.\")\n",
    "\n",
    "    if time_hour not in range(25) or time_min not in range(60):\n",
    "        raise Warning(\"Invalid Time Format!\")\n",
    "\n",
    "    current_time = time.localtime()\n",
    "    left_time = datetime.strptime(\n",
    "        f\"{time_hour}:{time_min}:0\", \"%H:%M:%S\"\n",
    "    ) - datetime.strptime(\n",
    "        f\"{current_time.tm_hour}:{current_time.tm_min}:{current_time.tm_sec}\",\n",
    "        \"%H:%M:%S\",\n",
    "    )\n",
    "\n",
    "    if left_time.seconds < wait_time:\n",
    "        raise exceptions.CallTimeException(\n",
    "            \"Call Time must be Greater than Wait Time as WhatsApp Web takes some Time to Load!\"\n",
    "        )\n",
    "\n",
    "    sleep_time = left_time.seconds - wait_time\n",
    "    print(\n",
    "        f\"In {sleep_time} Seconds WhatsApp will open and Message will be Delivered to {phone_no}!\"\n",
    "    )\n",
    "    \n",
    "    time.sleep(sleep_time)\n",
    "    core.send_message(message=message, receiver=phone_no, wait_time=wait_time)\n",
    "    keyboard.press(\"enter\")\n",
    "    keyboard.release(\"enter\")\n",
    "    log.log_message(_time=current_time, receiver=phone_no, message=message)\n",
    "    if tab_close:\n",
    "        core.close_tab(wait_time=close_time)"
   ]
  },
  {
   "cell_type": "markdown",
   "id": "46202fab",
   "metadata": {},
   "source": [
    "##### Add array in a loop\n",
    "\n",
    "Every minute whatsapp will send a message to a new person"
   ]
  },
  {
   "cell_type": "raw",
   "id": "f2c7069f",
   "metadata": {},
   "source": [
    "message = 'Hello, My name is Francis. I\\'m a software developer and an academic tutor. \\nIf you feel you need help with your projects,  assignments, quizzes or classes, please don\\'t hesitate to reach out.\\nFeel free to check my profile and recent projects https://github.com/Ndaruga \\nThank you!'"
   ]
  },
  {
   "cell_type": "code",
   "execution_count": null,
   "id": "c750e37b",
   "metadata": {},
   "outputs": [],
   "source": [
    "message = \"Hello, My name is Francis. I\\'m a skilled tutor who can complete your work to your satisfaction. If you need extra help, either for lessons, assignments, projects, quizzes or brushing up before finals, I'm here to help. Available 24/7, I'm not limited to niche, I cover a wide range of topics across many disciplines.\\nThank you\""
   ]
  },
  {
   "cell_type": "code",
   "execution_count": null,
   "id": "cb5faaa1",
   "metadata": {},
   "outputs": [],
   "source": [
    "def check_if_string_in_file(file_name, string_to_search):\n",
    "    with open(file_name, 'r') as read_obj:\n",
    "        for line in read_obj:\n",
    "            if str(string_to_search) in line:\n",
    "                return True\n",
    "    return False"
   ]
  },
  {
   "cell_type": "code",
   "execution_count": null,
   "id": "90daef53",
   "metadata": {},
   "outputs": [],
   "source": [
    "for i in client_No:\n",
    "    if check_if_string_in_file('PyWhatKit_DB.txt', i) == True:\n",
    "        print(f'{i} already Exists in Database')\n",
    "        pass\n",
    "    else:            \n",
    "        tim=datetime.now()\n",
    "        try:\n",
    "            sendwhatmsg(i, message, time_hour=tim.hour, time_min=tim.minute+1)\n",
    "        except:\n",
    "            print(f'Failed to send message to {i}')"
   ]
  },
  {
   "cell_type": "code",
   "execution_count": null,
   "id": "fa978726",
   "metadata": {},
   "outputs": [],
   "source": [
    "\n"
   ]
  }
 ],
 "metadata": {
  "kernelspec": {
   "display_name": "Python 3 (ipykernel)",
   "language": "python",
   "name": "python3"
  },
  "language_info": {
   "codemirror_mode": {
    "name": "ipython",
    "version": 3
   },
   "file_extension": ".py",
   "mimetype": "text/x-python",
   "name": "python",
   "nbconvert_exporter": "python",
   "pygments_lexer": "ipython3",
   "version": "3.9.13"
  }
 },
 "nbformat": 4,
 "nbformat_minor": 5
}
