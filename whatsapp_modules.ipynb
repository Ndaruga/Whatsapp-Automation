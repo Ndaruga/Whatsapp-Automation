{
 "cells": [
  {
   "cell_type": "code",
   "execution_count": null,
   "id": "1f88dba5",
   "metadata": {},
   "outputs": [],
   "source": [
    "import os\n",
    "import time\n",
    "import webbrowser as web\n",
    "import datetime\n",
    "from re import fullmatch\n",
    "from typing import List\n",
    "from urllib.parse import quote\n",
    "import paperclip\n",
    "import pyautogui as pg\n",
    "import pyperclip\n",
    "import keyboard\n",
    "from pywhatkit.core import core, exceptions, log\n",
    "\n",
    "pg.FAILSAFE = False\n",
    "\n",
    "core.check_connection()\n",
    "\n",
    "def open_web() -> bool:\n",
    "    \"\"\"Opens WhatsApp Web\"\"\"\n",
    "\n",
    "    try:\n",
    "        web.open(\"https://web.whatsapp.com\")\n",
    "    except web.Error:\n",
    "        return False\n",
    "    else:\n",
    "        return True\n"
   ]
  },
  {
   "cell_type": "code",
   "execution_count": null,
   "id": "e5729af6",
   "metadata": {},
   "outputs": [],
   "source": []
  },
  {
   "cell_type": "code",
   "execution_count": null,
   "id": "2308f19a",
   "metadata": {},
   "outputs": [],
   "source": [
    "def sendwhatmsg_instantly(\n",
    "        phone_no: str,\n",
    "        message: str,\n",
    "        wait_time: int = 30,\n",
    "        tab_close: bool = False,\n",
    "        close_time: int = 3,\n",
    ") -> None:\n",
    "    \"\"\"Send WhatsApp Message Instantly\"\"\"\n",
    "\n",
    "    if not core.check_number(number=phone_no):\n",
    "        raise exceptions.CountryCodeException(\"Country Code Missing in Phone Number!\")\n",
    "\n",
    "    phone_no = phone_no.replace(\" \", \"\")\n",
    "    if not fullmatch(r\"^\\+?[0-9]{2,4}\\s?[0-9]{9,15}\", phone_no):\n",
    "        raise exceptions.InvalidPhoneNumber(\"Invalid Phone Number.\")\n",
    "\n",
    "    web.open(f\"https://web.whatsapp.com/send?phone={phone_no}&text={quote(message)}\")\n",
    "    time.sleep(4)\n",
    "    pg.click(core.WIDTH / 2, core.HEIGHT / 2 + 15)\n",
    "    time.sleep(wait_time - 4)\n",
    "    core.findtextbox()\n",
    "    pg.press(\"enter\")\n",
    "    log.log_message(_time=time.localtime(), receiver=phone_no, message=message)\n",
    "    if tab_close:\n",
    "        core.close_tab(wait_time=close_time)\n",
    "\n"
   ]
  }
 ],
 "metadata": {
  "kernelspec": {
   "display_name": "Python 3 (ipykernel)",
   "language": "python",
   "name": "python3"
  },
  "language_info": {
   "codemirror_mode": {
    "name": "ipython",
    "version": 3
   },
   "file_extension": ".py",
   "mimetype": "text/x-python",
   "name": "python",
   "nbconvert_exporter": "python",
   "pygments_lexer": "ipython3",
   "version": "3.9.13"
  }
 },
 "nbformat": 4,
 "nbformat_minor": 5
}
