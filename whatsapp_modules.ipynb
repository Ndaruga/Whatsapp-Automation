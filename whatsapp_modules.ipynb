{
 "cells": [
  {
   "cell_type": "code",
   "execution_count": 1,
   "id": "53f5d329",
   "metadata": {},
   "outputs": [],
   "source": [
    "import pandas as pd\n"
   ]
  },
  {
   "cell_type": "code",
   "execution_count": 2,
   "id": "49ce3964",
   "metadata": {},
   "outputs": [],
   "source": [
    "import os\n",
    "import time\n",
    "import webbrowser as web\n",
    "from datetime import datetime\n",
    "from re import fullmatch\n",
    "from typing import List\n",
    "from urllib.parse import quote\n",
    "import paperclip\n",
    "import pyautogui as pg\n",
    "import pyperclip\n",
    "import keyboard\n",
    "from pywhatkit.core import core, exceptions, log\n",
    "\n",
    "pg.FAILSAFE = False\n",
    "\n",
    "core.check_connection()\n",
    "\n",
    "def open_web() -> bool:\n",
    "    \"\"\"Opens WhatsApp Web\"\"\"\n",
    "\n",
    "    try:\n",
    "        web.open(\"https://web.whatsapp.com\")\n",
    "    except web.Error:\n",
    "        return False\n",
    "    else:\n",
    "        return True\n"
   ]
  },
  {
   "cell_type": "code",
   "execution_count": 3,
   "id": "98538d93",
   "metadata": {},
   "outputs": [],
   "source": [
    "num = ['+254784116116','+254113927737']"
   ]
  },
  {
   "cell_type": "code",
   "execution_count": 4,
   "id": "7624e0ff",
   "metadata": {},
   "outputs": [],
   "source": [
    "def sendwhatmsg(\n",
    "        phone_no: str,\n",
    "        message: str,\n",
    "        time_hour: int,\n",
    "        time_min: int,\n",
    "        wait_time: int = 10,\n",
    "        tab_close: bool = True,\n",
    "        close_time: int = 3,\n",
    ") -> None:\n",
    "    \"\"\"Send a WhatsApp Message at a Certain Time\"\"\"\n",
    "    if not core.check_number(number=phone_no):\n",
    "        raise exceptions.CountryCodeException(\"Country Code Missing in Phone Number!\")\n",
    "\n",
    "    phone_no = phone_no.replace(\" \", \"\")\n",
    "    if not fullmatch(r'^\\+?[0-9]{2,4}\\s?[0-9]{9,15}', phone_no):\n",
    "        raise exceptions.InvalidPhoneNumber(\"Invalid Phone Number.\")\n",
    "\n",
    "    if time_hour not in range(25) or time_min not in range(60):\n",
    "        raise Warning(\"Invalid Time Format!\")\n",
    "\n",
    "    current_time = time.localtime()\n",
    "    left_time = datetime.strptime(\n",
    "        f\"{time_hour}:{time_min}:0\", \"%H:%M:%S\"\n",
    "    ) - datetime.strptime(\n",
    "        f\"{current_time.tm_hour}:{current_time.tm_min}:{current_time.tm_sec}\",\n",
    "        \"%H:%M:%S\",\n",
    "    )\n",
    "\n",
    "    if left_time.seconds < wait_time:\n",
    "        raise exceptions.CallTimeException(\n",
    "            \"Call Time must be Greater than Wait Time as WhatsApp Web takes some Time to Load!\"\n",
    "        )\n",
    "\n",
    "    sleep_time = left_time.seconds - wait_time\n",
    "    print(\n",
    "        f\"In {sleep_time} Seconds WhatsApp will open and Message will be Delivered to {phone_no}!\"\n",
    "    )\n",
    "    time.sleep(sleep_time)\n",
    "    core.send_message(message=message, receiver=phone_no, wait_time=wait_time)\n",
    "    log.log_message(_time=current_time, receiver=phone_no, message=message)\n",
    "    if tab_close:\n",
    "        core.close_tab(wait_time=close_time)"
   ]
  },
  {
   "cell_type": "markdown",
   "id": "5a60c4f3",
   "metadata": {},
   "source": [
    "##### Add array in a loop\n",
    "\n",
    "Every minute whatsapp will send a message to a new person"
   ]
  },
  {
   "cell_type": "code",
   "execution_count": 5,
   "id": "90daef53",
   "metadata": {},
   "outputs": [
    {
     "name": "stdout",
     "output_type": "stream",
     "text": [
      "In 23 Seconds WhatsApp will open and Message will be Delivered to +254784116116!\n",
      "In 46 Seconds WhatsApp will open and Message will be Delivered to +254113927737!\n"
     ]
    }
   ],
   "source": [
    "for i in num:\n",
    "    tim=datetime.now()\n",
    "    try:\n",
    "        sendwhatmsg(i, 'https://github.com/Ndaruga tt', time_hour=tim.hour, time_min=tim.minute+1)\n",
    "    except:\n",
    "        print(f'Failed to send message to {i}')"
   ]
  },
  {
   "cell_type": "code",
   "execution_count": null,
   "id": "a33699e8",
   "metadata": {},
   "outputs": [],
   "source": []
  }
 ],
 "metadata": {
  "kernelspec": {
   "display_name": "Python 3 (ipykernel)",
   "language": "python",
   "name": "python3"
  },
  "language_info": {
   "codemirror_mode": {
    "name": "ipython",
    "version": 3
   },
   "file_extension": ".py",
   "mimetype": "text/x-python",
   "name": "python",
   "nbconvert_exporter": "python",
   "pygments_lexer": "ipython3",
   "version": "3.9.13"
  }
 },
 "nbformat": 4,
 "nbformat_minor": 5
}
